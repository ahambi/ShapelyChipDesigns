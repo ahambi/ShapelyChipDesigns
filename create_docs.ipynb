{
 "metadata": {
  "name": "",
  "signature": "sha256:8c93d4d2c0fb4b182602f284a2a4ae2b0b32100eba278a142ca7e09778a677db"
 },
 "nbformat": 3,
 "nbformat_minor": 0,
 "worksheets": [
  {
   "cells": [
    {
     "cell_type": "heading",
     "level": 1,
     "metadata": {},
     "source": [
      "Generate a folder with a python file"
     ]
    },
    {
     "cell_type": "code",
     "collapsed": false,
     "input": [
      "import os \n",
      "import sys"
     ],
     "language": "python",
     "metadata": {},
     "outputs": [],
     "prompt_number": 1
    },
    {
     "cell_type": "code",
     "collapsed": false,
     "input": [
      "#os.mkdir('src')\n",
      "os.mkdir('docs')"
     ],
     "language": "python",
     "metadata": {},
     "outputs": [],
     "prompt_number": 2
    },
    {
     "cell_type": "code",
     "collapsed": false,
     "input": [
      "%%writefile docs/pyplots/ellipses.py\n",
      "\n",
      "from pylab import xlim, ylim, arange, subplot, show\n",
      "from matplotlib.patches import Ellipse\n",
      "\n",
      "delta = 45.0 # degrees\n",
      "\n",
      "angles = arange(0, 360+delta, delta)\n",
      "ells = [Ellipse((1, 1), 4, 2, a) for a in angles]\n",
      "\n",
      "a = subplot(111, aspect='equal')\n",
      "\n",
      "for e in ells:\n",
      "    e.set_clip_box(a.bbox)\n",
      "    e.set_alpha(0.1)\n",
      "    a.add_artist(e)\n",
      "\n",
      "xlim(-2, 4)\n",
      "ylim(-1, 3)\n",
      "\n",
      "show()"
     ],
     "language": "python",
     "metadata": {},
     "outputs": [
      {
       "output_type": "stream",
       "stream": "stdout",
       "text": [
        "Writing docs/pyplots/ellipses.py\n"
       ]
      }
     ],
     "prompt_number": 18
    },
    {
     "cell_type": "heading",
     "level": 3,
     "metadata": {},
     "source": [
      "apyfile.py"
     ]
    },
    {
     "cell_type": "code",
     "collapsed": false,
     "input": [
      "%%writefile src/apyfile.py\n",
      "\n",
      "from pylab import xlim, ylim\n",
      "\n",
      "\n",
      "def funci(x):\n",
      "    \"\"\"Here is something new\n",
      "    Hallo hallo.\n",
      "    I am a docstring! \n",
      "    \n",
      "    You can represent code blocks fairly easily::\n",
      "\n",
      "       import numpy as np\n",
      "       x = np.random.rand(12)\n",
      "       print x\n",
      "\n",
      "    .. math::\n",
      "        \\int f(x)~dx \n",
      "    .. note::\n",
      "       Michse beautiful\n",
      "       you too\n",
      "    .. seealso:: This is a simple **seealso** note.\n",
      "    .. warning::\n",
      "       never use me!\n",
      "    .. todo:: \n",
      "       This is a todo!\n",
      "       \n",
      "       \n",
      "    .. plot:: pyplots/scatter_tooltip.py\n",
      "       :include-source:\n",
      "    \n",
      "    Full path: \n",
      "    \n",
      "    .. raw:: html\n",
      "    \n",
      "        <div style=\"margin-top:10px;\">\n",
      "        <iframe width=\"700\" height=\"500\"scrolling=\"no\" frameborder=\"0\" src=\"E:/IPython2/141007 Sphinx and ShapelyChipDesigns/try4/docs/pyplots/img/scatter_plot.html\"></iframe>\n",
      "        </div>\n",
      "        \n",
      "    \"pyplots/img/scatter_plot.html\" \n",
      "    \n",
      "    .. raw:: html\n",
      "\n",
      "        <div style=\"margin-top:10px;\">\n",
      "        <iframe width=\"700\" height=\"500\"scrolling=\"no\" frameborder=\"0\" src=\"pyplots/img/scatter_plot.html\"></iframe>\n",
      "        </div>\n",
      "        \n",
      "    \"../pyplots/img/scatter_plot.html\" \n",
      "    \n",
      "    .. raw:: html\n",
      "\n",
      "        <div style=\"margin-top:10px;\">\n",
      "        <iframe width=\"700\" height=\"500\"scrolling=\"no\" frameborder=\"0\" src=\"../pyplots/img/scatter_plot.html\"></iframe>\n",
      "        </div>\n",
      "        \n",
      "    \"../../pyplots/img/scatter_plot.html\n",
      "    \n",
      "    .. raw:: html\n",
      "\n",
      "        <div style=\"margin-top:10px;\">\n",
      "        <iframe width=\"700\" height=\"500\"scrolling=\"no\" frameborder=\"0\" src=\"../../pyplots/img/scatter_plot.html\"></iframe>\n",
      "        </div>\n",
      "\n",
      "    \"../../../src/_img/scatter_plot.html\n",
      "    \n",
      "    .. raw:: html\n",
      "\n",
      "        <div style=\"margin-top:10px;\">\n",
      "        <iframe width=\"700\" height=\"500\"scrolling=\"no\" frameborder=\"0\" src=\"../../../src/_img/scatter_plot.html\"></iframe>\n",
      "        </div>\n",
      "       \n",
      "    .. raw:: html\n",
      "\n",
      "        <div style=\"margin-top:10px;\">\n",
      "          <iframe width=\"560\" height=\"315\" src=\"http://www.youtube.com/embed/_EjisXtMy_Y\" frameborder=\"0\" allowfullscreen></iframe>\n",
      "        </div>\n",
      "    \n",
      "    .. doctest::\n",
      "\n",
      "        >>> import math\n",
      "        >>> print math.sqrt(2.)\n",
      "        1.41421356237\n",
      "       \n",
      "    .. plot:: pyplots/ellipses.py\n",
      "       :include-source:\n",
      "       \n",
      "    .. plot:: pyplots/test_mpld3.py\n",
      "       :include-source:\n",
      "       \n",
      "    .. image:: pyplots/img/scatter_plot.png\n",
      "\n",
      "    .. _ipython-highlighting:\n",
      "    .. sourcecode:: ipython\n",
      "\n",
      "        In [69]: lines = plot([1,2,3])\n",
      "\n",
      "        In [70]: setp(lines)\n",
      "          alpha: float\n",
      "          animated: [True | False]\n",
      "          antialiased or aa: [True | False]\n",
      "          ...snip\n",
      "    \n",
      "    You can also inline code for plots directly, and the code will be\n",
      "    executed at documentation build time and the figure inserted into your\n",
      "    docs; the following code::\n",
      "\n",
      "       .. plot::\n",
      "\n",
      "          import matplotlib.pyplot as plt\n",
      "          import numpy as np\n",
      "          x = np.random.randn(1000)\n",
      "          plt.hist( x, 20)\n",
      "          plt.grid()\n",
      "          plt.title(r'Normal: $\\mu=%.2f, \\sigma=%.2f$'%(x.mean(), x.std()))\n",
      "          plt.show()\n",
      "\n",
      "    Produces this output: \n",
      "    \n",
      "    .. plot::\n",
      "    \n",
      "        import matplotlib.pyplot as plt\n",
      "        import numpy as np\n",
      "        x = np.random.randn(1000)\n",
      "        plt.hist( x, 20)\n",
      "        plt.grid()\n",
      "        plt.title(r'Normal: $\\mu=%.2f, \\sigma=%.2f$'%(x.mean(), x.std()))\n",
      "        plt.show()\n",
      "       \n",
      "    Lalal: \n",
      "       import matplotlib.pyplot as plt\n",
      "        import numpy as np\n",
      "        x = np.random.randn(1000)\n",
      "        plt.hist( x, 20)\n",
      "        plt.grid()\n",
      "        plt.title(r'Normal: $\\mu=%.2f, \\sigma=%.2f$'%(x.mean(), x.std()))\n",
      "        plt.show()\n",
      "    \"\"\"\n",
      "    return 0"
     ],
     "language": "python",
     "metadata": {},
     "outputs": [
      {
       "output_type": "stream",
       "stream": "stdout",
       "text": [
        "Overwriting src/apyfile.py\n"
       ]
      }
     ],
     "prompt_number": 78
    },
    {
     "cell_type": "heading",
     "level": 3,
     "metadata": {},
     "source": [
      "Generate"
     ]
    },
    {
     "cell_type": "code",
     "collapsed": false,
     "input": [
      "!sphinx-apidoc -f -F --maxdepth=4 -e -V \"0.0.0\" -H \"ShapelyChipDesigns\" -A \"Hambi\" -o \"E:\\IPython2\\141007 Sphinx and ShapelyChipDesigns\\try4\\docs\" \"E:\\IPython2\\141007 Sphinx and ShapelyChipDesigns\\try4\\src\""
     ],
     "language": "python",
     "metadata": {},
     "outputs": [
      {
       "output_type": "stream",
       "stream": "stdout",
       "text": [
        "Creating file E:\\IPython2\\141007 Sphinx and ShapelyChipDesigns\\try4\\docs\\apyfile.rst.\n",
        "Creating file E:\\IPython2\\141007 Sphinx and ShapelyChipDesigns\\try4\\docs\\brandnew_structure.rst.\n",
        "Creating file E:\\IPython2\\141007 Sphinx and ShapelyChipDesigns\\try4\\docs\\examples.rst.\n",
        "Creating file E:\\IPython2\\141007 Sphinx and ShapelyChipDesigns\\try4\\docs\\finger_capacitor.rst.\n",
        "Creating file E:\\IPython2\\141007 Sphinx and ShapelyChipDesigns\\try4\\docs\\helpers.rst.\n",
        "Creating file E:\\IPython2\\141007 Sphinx and ShapelyChipDesigns\\try4\\docs\\in_out_show.rst.\n",
        "Creating file E:\\IPython2\\141007 Sphinx and ShapelyChipDesigns\\try4\\docs\\test_mpld3.rst.\n",
        "Creating file E:\\IPython2\\141007 Sphinx and ShapelyChipDesigns\\try4\\docs\\conf.py.\n",
        "Creating file E:\\IPython2\\141007 Sphinx and ShapelyChipDesigns\\try4\\docs\\index.rst.\n",
        "Creating file E:\\IPython2\\141007 Sphinx and ShapelyChipDesigns\\try4\\docs\\Makefile.\n",
        "Creating file E:\\IPython2\\141007 Sphinx and ShapelyChipDesigns\\try4\\docs\\make.bat.\n"
       ]
      }
     ],
     "prompt_number": 1
    },
    {
     "cell_type": "code",
     "collapsed": false,
     "input": [
      "%%writefile -a docs/conf.py\n",
      "\n",
      "sys.path.insert(0, os.path.abspath('../src'))\n",
      "sys.path.append(os.path.abspath('sphinxext/plot_generator.py'))\n",
      "sys.path.append(os.path.abspath('sphinxext'))\n",
      "print os.path.abspath('sphinxext/plot_generator.py')\n",
      "\n",
      "extensions = [\n",
      "          'matplotlib.sphinxext.mathmpl',\n",
      "          'matplotlib.sphinxext.only_directives',\n",
      "          'matplotlib.sphinxext.plot_directive',\n",
      "          'matplotlib.sphinxext.ipython_directive',\n",
      "          'IPython.sphinxext.ipython_console_highlighting',\n",
      "          'sphinx.ext.autodoc',\n",
      "          'sphinx.ext.doctest',\n",
      "          'sphinx.ext.todo',\n",
      "          'sphinx.ext.autosummary']\n",
      "          #'numpydoc'\n",
      "\n",
      "[extensions]\n",
      "todo_include_todos=True\n",
      "\n",
      "import numpy_ext.numpydoc\n",
      "extensions.append('numpy_ext.numpydoc')\n",
      "\n",
      "import plot_generator\n",
      "extensions.append('plot_generator')\n",
      "\n",
      "import notebook_converter\n",
      "extensions.append('notebook_converter')\n",
      "\n",
      "def skip_modules_docstring(app, what, name, obj, options, lines):\n",
      "    if what in []:\n",
      "        del lines[:]\n",
      "\n",
      "def setup(app):\n",
      "    app.connect('autodoc-process-docstring', skip_modules_docstring)\n",
      "    \n",
      "import sphinx_bootstrap_theme\n",
      "\n",
      "# ...\n",
      "\n",
      "# Activate the theme.\n",
      "html_theme = 'bootstrap'\n",
      "html_theme_path = sphinx_bootstrap_theme.get_html_theme_path()\n",
      "    \n",
      "#html_theme = 'mpld3'\n",
      "#html_theme_path = ['themes']"
     ],
     "language": "python",
     "metadata": {},
     "outputs": [
      {
       "output_type": "stream",
       "stream": "stdout",
       "text": [
        "Appending to docs/conf.py\n"
       ]
      }
     ],
     "prompt_number": 4
    },
    {
     "cell_type": "heading",
     "level": 3,
     "metadata": {},
     "source": [
      "make"
     ]
    },
    {
     "cell_type": "code",
     "collapsed": false,
     "input": [
      "%%cmd\n",
      "cd docs\n",
      "make clean\n",
      "make html\n",
      "make"
     ],
     "language": "python",
     "metadata": {},
     "outputs": [
      {
       "output_type": "stream",
       "stream": "stdout",
       "text": [
        "Microsoft Windows [Version 6.1.7601]\r\n",
        "Copyright (c) 2009 Microsoft Corporation. Alle Rechte vorbehalten.\r\n",
        "\r\n",
        "E:\\IPython2\\141007 Sphinx and ShapelyChipDesigns\\try4>cd docs\n",
        "\r\n",
        "E:\\IPython2\\141007 Sphinx and ShapelyChipDesigns\\try4\\docs>make clean\n",
        "\r\n",
        "E:\\IPython2\\141007 Sphinx and ShapelyChipDesigns\\try4\\docs>make html\n",
        "Making output directory...\r\n",
        "Running Sphinx v1.2.2\r\n",
        "E:\\IPython2\\141007 Sphinx and ShapelyChipDesigns\\try4\\docs\\sphinxext\\plot_generator.py\r\n",
        "E:\\IPython2\\141007 Sphinx and ShapelyChipDesigns\\try4\\docs\\sphinxext\\plot_generator.py\r\n",
        "loading pickled environment... not yet created\r\n",
        "building [html]: targets for 12 source files that are out of date\r\n",
        "updating environment: 12 added, 0 changed, 0 removed\r\n",
        "reading sources... [  8%] Introduction\r\n",
        "reading sources... [ 16%] apyfile\r\n",
        "reading sources... [ 25%] brandnew_structure\r\n",
        "reading sources... [ 33%] examples\r\n",
        "reading sources... [ 41%] examples/index\r\n",
        "reading sources... [ 50%] finger_capacitor\r\n",
        "reading sources... [ 58%] hello\r\n",
        "reading sources... [ 66%] helpers\r\n",
        "reading sources... [ 75%] in_out_show\r\n",
        "reading sources... [ 83%] index\r\n",
        "reading sources... [ 91%] notebooks/index\r\n",
        "reading sources... [100%] test_mpld3\r\n",
        "\r\n",
        "looking for now-outdated files... none found\r\n",
        "pickling environment... done\r\n",
        "checking consistency... done\r\n",
        "preparing documents... done\r\n",
        "writing output... [  8%] Introduction\r\n",
        "writing output... [ 16%] apyfile\r\n",
        "#writing output... [ 25%] brandnew_structure\r\n",
        "writing output... [ 33%] examples\r\n",
        "writing output... [ 41%] examples/index\r\n",
        "writing output... [ 50%] finger_capacitor\r\n",
        "writing output... [ 58%] hello\r\n",
        "###writing output... [ 66%] helpers\r\n",
        "writing output... [ 75%] in_out_show\r\n",
        "writing output... [ 83%] index\r\n",
        "writing output... [ 91%] notebooks/index\r\n",
        "writing output... [100%] test_mpld3\r\n",
        "\r\n",
        "writing additional files... genindex py-modindex np-modindex search\r\n",
        "copying images... [ 11%] hello_files/hello_3_1.png\r\n",
        "copying images... [ 22%] _build/plot_directive/examples/example_EBL_markers.png\r\n",
        "copying images... [ 33%] _build/plot_directive/pyplots/ellipses.png\r\n",
        "copying images... [ 44%] pyplots/img/scatter_plot.png\r\n",
        "copying images... [ 55%] _build/plot_directive/apyfile-1.png\r\n",
        "copying images... [ 66%] Introduction_files/Introduction_7_0.png\r\n",
        "copying images... [ 77%] Introduction_files/Introduction_6_1.png\r\n",
        "copying images... [ 88%] _build/plot_directive/pyplots/scatter_tooltip.png\r\n",
        "copying images... [100%] Introduction_files/Introduction_5_1.png\r\n",
        "\r\n",
        "copying static files... done\r\n",
        "copying extra files... done\r\n",
        "dumping search index... done\r\n",
        "dumping object inventory... done\r\n",
        "build succeeded, 2 warnings.\r\n",
        "\r\n",
        "Build finished. The HTML pages are in _build/html.\r\n",
        "\r\n",
        "E:\\IPython2\\141007 Sphinx and ShapelyChipDesigns\\try4\\docs>Mehr? "
       ]
      },
      {
       "output_type": "stream",
       "stream": "stderr",
       "text": [
        "C:\\Python27\\lib\\site-packages\\IPython\\lib\\kernel.py:8: DeprecationWarning: IPython.lib.kernel moved to IPython.kernel.connect in IPython 1.0\r\n",
        "  DeprecationWarning\r\n",
        "E:\\IPython2\\141007 Sphinx and ShapelyChipDesigns\\try4\\docs\\examples\\index.rst:: WARNING: document isn't included in any toctree\r\n",
        "E:\\IPython2\\141007 Sphinx and ShapelyChipDesigns\\try4\\docs\\notebooks\\index.rst:: WARNING: document isn't included in any toctree\r\n"
       ]
      }
     ],
     "prompt_number": 12
    },
    {
     "cell_type": "code",
     "collapsed": false,
     "input": [
      "%%cmd\n",
      "cd docs\n",
      "make doctest\n",
      "make "
     ],
     "language": "python",
     "metadata": {},
     "outputs": [
      {
       "output_type": "stream",
       "stream": "stdout",
       "text": [
        "Microsoft Windows [Version 6.1.7601]\r\n",
        "Copyright (c) 2009 Microsoft Corporation. Alle Rechte vorbehalten.\r\n",
        "\r\n",
        "E:\\IPython2\\141007 Sphinx and ShapelyChipDesigns\\try4>cd docs\n",
        "\r\n",
        "E:\\IPython2\\141007 Sphinx and ShapelyChipDesigns\\try4\\docs>make doctest\n",
        "Making output directory...\r\n",
        "Running Sphinx v1.2.2\r\n",
        "loading pickled environment... done\r\n",
        "building [doctest]: targets for 6 source files that are out of date\r\n",
        "updating environment: 0 added, 0 changed, 0 removed\r\n",
        "looking for now-outdated files... none found\r\n",
        "running tests...\r\n",
        "\r\n",
        "Document: apyfile\r\n",
        "-----------------\r\n",
        "1 items passed all tests:\r\n",
        "   2 tests in default\r\n",
        "2 tests in 1 items.\r\n",
        "2 passed and 0 failed.\r\n",
        "Test passed.\r\n",
        "\r\n",
        "Doctest summary\r\n",
        "===============\r\n",
        "    2 tests\r\n",
        "    0 failures in tests\r\n",
        "    0 failures in setup code\r\n",
        "    0 failures in cleanup code\r\n",
        "build succeeded.\r\n",
        "\r\n",
        "Testing of doctests in the sources finished, look at the results in _build/doctest/output.txt.\r\n",
        "\r\n",
        "E:\\IPython2\\141007 Sphinx and ShapelyChipDesigns\\try4\\docs>Mehr? "
       ]
      }
     ],
     "prompt_number": 74
    },
    {
     "cell_type": "code",
     "collapsed": false,
     "input": [
      "sys.path"
     ],
     "language": "python",
     "metadata": {},
     "outputs": [
      {
       "metadata": {},
       "output_type": "pyout",
       "prompt_number": 21,
       "text": [
        "['',\n",
        " 'C:\\\\Python27\\\\lib\\\\site-packages\\\\numpydoc-0.5-py2.7.egg',\n",
        " 'C:\\\\windows\\\\system32\\\\python27.zip',\n",
        " 'C:\\\\Python27\\\\DLLs',\n",
        " 'C:\\\\Python27\\\\lib',\n",
        " 'C:\\\\Python27\\\\lib\\\\plat-win',\n",
        " 'C:\\\\Python27\\\\lib\\\\lib-tk',\n",
        " 'C:\\\\Python27',\n",
        " 'C:\\\\Python27\\\\lib\\\\site-packages',\n",
        " 'C:\\\\Python27\\\\lib\\\\site-packages\\\\win32',\n",
        " 'C:\\\\Python27\\\\lib\\\\site-packages\\\\win32\\\\lib',\n",
        " 'C:\\\\Python27\\\\lib\\\\site-packages\\\\Pythonwin',\n",
        " 'C:\\\\Python27\\\\lib\\\\site-packages\\\\wx-2.8-msw-unicode',\n",
        " 'C:\\\\Python27\\\\lib\\\\site-packages\\\\IPython\\\\extensions']"
       ]
      }
     ],
     "prompt_number": 21
    },
    {
     "cell_type": "code",
     "collapsed": false,
     "input": [],
     "language": "python",
     "metadata": {},
     "outputs": [],
     "prompt_number": 21
    },
    {
     "cell_type": "code",
     "collapsed": false,
     "input": [],
     "language": "python",
     "metadata": {},
     "outputs": [],
     "prompt_number": 39
    },
    {
     "cell_type": "code",
     "collapsed": false,
     "input": [],
     "language": "python",
     "metadata": {},
     "outputs": []
    }
   ],
   "metadata": {}
  }
 ]
}