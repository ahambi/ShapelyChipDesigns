{
 "metadata": {
  "name": "",
  "signature": "sha256:e8a449cf6c9bed1edce8b06685b90e7a0786cb7a3d5dffe15e9ee4815edea2f7"
 },
 "nbformat": 3,
 "nbformat_minor": 0,
 "worksheets": [
  {
   "cells": [
    {
     "cell_type": "code",
     "collapsed": false,
     "input": [
      "%%writefile setup.py\n",
      "\n",
      "from distutils.core import setup\n",
      "\n",
      "setup(name='ShapelyChipDesigns',\n",
      "      version='0.0',\n",
      "      description='Chip design package based on the Shapely module', \n",
      "      author='hambi',\n",
      "      author_email='annahambi@gmail.com',\n",
      "      url='lala.com',\n",
      "      py_modules=['src'],\n",
      "      packages=['src'], \n",
      "      package_data={'': ['src/convert.rb']}\n",
      "      #data_files=[('', ['ShapelyChipDesigns/convert.rb'])]\n",
      "      )"
     ],
     "language": "python",
     "metadata": {},
     "outputs": [
      {
       "output_type": "stream",
       "stream": "stdout",
       "text": [
        "Writing setup.py\n"
       ]
      }
     ],
     "prompt_number": 1
    },
    {
     "cell_type": "code",
     "collapsed": false,
     "input": [
      "!setup.py sdist"
     ],
     "language": "python",
     "metadata": {},
     "outputs": [
      {
       "output_type": "stream",
       "stream": "stdout",
       "text": [
        "running sdist\n",
        "running check\n",
        "writing manifest file 'MANIFEST'\n",
        "creating ShapelyChipDesigns-0.0\n",
        "creating ShapelyChipDesigns-0.0\\src\n",
        "copying files to ShapelyChipDesigns-0.0...\n",
        "copying setup.py -> ShapelyChipDesigns-0.0\n",
        "copying src\\apyfile.py -> ShapelyChipDesigns-0.0\\src\n",
        "copying src\\brandnew_structure.py -> ShapelyChipDesigns-0.0\\src\n",
        "copying src\\examples.py -> ShapelyChipDesigns-0.0\\src\n",
        "copying src\\finger_capacitor.py -> ShapelyChipDesigns-0.0\\src\n",
        "copying src\\helpers.py -> ShapelyChipDesigns-0.0\\src\n",
        "copying src\\in_out_show.py -> ShapelyChipDesigns-0.0\\src\n",
        "copying src\\test_mpld3.py -> ShapelyChipDesigns-0.0\\src\n",
        "creating 'dist\\ShapelyChipDesigns-0.0.zip' and adding 'ShapelyChipDesigns-0.0' to it\n",
        "adding 'ShapelyChipDesigns-0.0\\PKG-INFO'\n",
        "adding 'ShapelyChipDesigns-0.0\\setup.py'\n",
        "adding 'ShapelyChipDesigns-0.0\\src\\apyfile.py'\n",
        "adding 'ShapelyChipDesigns-0.0\\src\\brandnew_structure.py'\n",
        "adding 'ShapelyChipDesigns-0.0\\src\\examples.py'\n",
        "adding 'ShapelyChipDesigns-0.0\\src\\finger_capacitor.py'\n",
        "adding 'ShapelyChipDesigns-0.0\\src\\helpers.py'\n",
        "adding 'ShapelyChipDesigns-0.0\\src\\in_out_show.py'\n",
        "adding 'ShapelyChipDesigns-0.0\\src\\test_mpld3.py'\n",
        "removing 'ShapelyChipDesigns-0.0' (and everything under it)\n"
       ]
      },
      {
       "output_type": "stream",
       "stream": "stderr",
       "text": [
        "warning: check: missing required meta-data: url\n",
        "\n",
        "warning: sdist: manifest template 'MANIFEST.in' does not exist (using default file list)\n",
        "\n",
        "warning: sdist: standard file not found: should have one of README, README.txt\n",
        "\n",
        "file src.py (for module src) not found\n",
        "package init file 'src\\__init__.py' not found (or not a regular file)\n"
       ]
      }
     ],
     "prompt_number": 2
    },
    {
     "cell_type": "code",
     "collapsed": false,
     "input": [
      "!unzip"
     ],
     "language": "python",
     "metadata": {},
     "outputs": [
      {
       "output_type": "stream",
       "stream": "stdout",
       "text": [
        "UnZip 5.52 of 28 February 2005, by Info-ZIP.  Maintained by C. Spieler.  Send\n",
        "bug reports using http://www.info-zip.org/zip-bug.html; see README for details.\n",
        "\n",
        "Usage: unzip [-Z] [-opts[modifiers]] file[.zip] [list] [-x xlist] [-d exdir]\n",
        "  Default action is to extract files in list, except those in xlist, to exdir;\n",
        "  file[.zip] may be a wildcard.  -Z => ZipInfo mode (\"unzip -Z\" for usage).\n",
        "\n",
        "  -p  extract files to pipe, no messages     -l  list files (short format)\n",
        "  -f  freshen existing files, create none    -t  test compressed archive data\n",
        "  -u  update files, create if necessary      -z  display archive comment\n",
        "  -x  exclude files that follow (in xlist)   -d  extract files into exdir\n",
        "\n",
        "modifiers:                                   -q  quiet mode (-qq => quieter)\n",
        "  -n  never overwrite existing files         -a  auto-convert any text files\n",
        "  -o  overwrite files WITHOUT prompting      -aa treat ALL files as text\n",
        "  -j  junk paths (do not make directories)   -v  be verbose/print version info\n",
        "  -C  match filenames case-insensitively     -L  make (some) names lowercase\n",
        "  -$  label removables (-$$ => fixed disks)  -V  retain VMS version numbers\n",
        "  -X  restore ACLs (-XX => use privileges)   -s  spaces in filenames => '_'\n",
        "                                             -M  pipe through \"more\" pager\n",
        "Examples (see unzip.txt for more info):\n",
        "  unzip data1 -x joe   => extract all files except joe from zipfile data1.zip\n",
        "  unzip -fo foo ReadMe => quietly replace existing ReadMe if archive file newer\n"
       ]
      }
     ],
     "prompt_number": 16
    },
    {
     "cell_type": "code",
     "collapsed": false,
     "input": [
      "!unzip -o dist/ShapelyChipDesigns-0.0.zip -d dist "
     ],
     "language": "python",
     "metadata": {},
     "outputs": [
      {
       "output_type": "stream",
       "stream": "stdout",
       "text": [
        "Archive:  dist/ShapelyChipDesigns-0.0.zip\n",
        "  inflating: dist/ShapelyChipDesigns-0.0/PKG-INFO  \n",
        "  inflating: dist/ShapelyChipDesigns-0.0/setup.py  \n",
        "  inflating: dist/ShapelyChipDesigns-0.0/src/apyfile.py  \n",
        "  inflating: dist/ShapelyChipDesigns-0.0/src/brandnew_structure.py  \n",
        "  inflating: dist/ShapelyChipDesigns-0.0/src/examples.py  \n",
        "  inflating: dist/ShapelyChipDesigns-0.0/src/finger_capacitor.py  \n",
        "  inflating: dist/ShapelyChipDesigns-0.0/src/helpers.py  \n",
        "  inflating: dist/ShapelyChipDesigns-0.0/src/in_out_show.py  \n",
        "  inflating: dist/ShapelyChipDesigns-0.0/src/test_mpld3.py  \n"
       ]
      }
     ],
     "prompt_number": 3
    },
    {
     "cell_type": "code",
     "collapsed": false,
     "input": [
      "%%cmd\n",
      "cd dist/ShapelyChipDesigns-0.0/\n",
      "setup.py install\n",
      "dir /a"
     ],
     "language": "python",
     "metadata": {},
     "outputs": [
      {
       "output_type": "stream",
       "stream": "stdout",
       "text": [
        "Microsoft Windows [Version 6.1.7601]\r\n",
        "Copyright (c) 2009 Microsoft Corporation. Alle Rechte vorbehalten.\r\n",
        "\r\n",
        "E:\\IPython2\\141007 Sphinx and ShapelyChipDesigns\\try4>cd dist/ShapelyChipDesigns-0.0/\n",
        "\r\n",
        "E:\\IPython2\\141007 Sphinx and ShapelyChipDesigns\\try4\\dist\\ShapelyChipDesigns-0.0>setup.py install\n",
        "running install\r\n",
        "running build\r\n",
        "running build_py\r\n",
        "creating build\r\n",
        "creating build\\lib\r\n",
        "creating build\\lib\\src\r\n",
        "copying src\\apyfile.py -> build\\lib\\src\r\n",
        "copying src\\brandnew_structure.py -> build\\lib\\src\r\n",
        "copying src\\examples.py -> build\\lib\\src\r\n",
        "copying src\\finger_capacitor.py -> build\\lib\\src\r\n",
        "copying src\\helpers.py -> build\\lib\\src\r\n",
        "copying src\\in_out_show.py -> build\\lib\\src\r\n",
        "copying src\\test_mpld3.py -> build\\lib\\src\r\n",
        "running install_lib\r\n",
        "creating C:\\Python27\\Lib\\site-packages\\src\r\n",
        "copying build\\lib\\src\\apyfile.py -> C:\\Python27\\Lib\\site-packages\\src\r\n",
        "copying build\\lib\\src\\brandnew_structure.py -> C:\\Python27\\Lib\\site-packages\\src\r\n",
        "copying build\\lib\\src\\examples.py -> C:\\Python27\\Lib\\site-packages\\src\r\n",
        "copying build\\lib\\src\\finger_capacitor.py -> C:\\Python27\\Lib\\site-packages\\src\r\n",
        "copying build\\lib\\src\\helpers.py -> C:\\Python27\\Lib\\site-packages\\src\r\n",
        "copying build\\lib\\src\\in_out_show.py -> C:\\Python27\\Lib\\site-packages\\src\r\n",
        "copying build\\lib\\src\\test_mpld3.py -> C:\\Python27\\Lib\\site-packages\\src\r\n",
        "byte-compiling C:\\Python27\\Lib\\site-packages\\src\\apyfile.py to apyfile.pyc\r\n",
        "byte-compiling C:\\Python27\\Lib\\site-packages\\src\\brandnew_structure.py to brandnew_structure.pyc\r\n",
        "byte-compiling C:\\Python27\\Lib\\site-packages\\src\\examples.py to examples.pyc\r\n",
        "byte-compiling C:\\Python27\\Lib\\site-packages\\src\\finger_capacitor.py to finger_capacitor.pyc\r\n",
        "byte-compiling C:\\Python27\\Lib\\site-packages\\src\\helpers.py to helpers.pyc\r\n",
        "byte-compiling C:\\Python27\\Lib\\site-packages\\src\\in_out_show.py to in_out_show.pyc\r\n",
        "byte-compiling C:\\Python27\\Lib\\site-packages\\src\\test_mpld3.py to test_mpld3.pyc\r\n",
        "running install_egg_info\r\n",
        "Removing C:\\Python27\\Lib\\site-packages\\ShapelyChipDesigns-0.0-py2.7.egg-info\r\n",
        "Writing C:\\Python27\\Lib\\site-packages\\ShapelyChipDesigns-0.0-py2.7.egg-info\r\n",
        "\r\n",
        "E:\\IPython2\\141007 Sphinx and ShapelyChipDesigns\\try4\\dist\\ShapelyChipDesigns-0.0>Mehr? "
       ]
      },
      {
       "output_type": "stream",
       "stream": "stderr",
       "text": [
        "file src.py (for module src) not found\r\n",
        "package init file 'src\\__init__.py' not found (or not a regular file)\r\n",
        "file src.py (for module src) not found\r\n",
        "package init file 'src\\__init__.py' not found (or not a regular file)\r\n"
       ]
      }
     ],
     "prompt_number": 4
    },
    {
     "cell_type": "heading",
     "level": 2,
     "metadata": {},
     "source": [
      "ignore me:"
     ]
    },
    {
     "cell_type": "code",
     "collapsed": false,
     "input": [
      "import os\n",
      " \n",
      "mypath = !ipython locate\n",
      "print os.path.dirname(mypath[0])"
     ],
     "language": "python",
     "metadata": {},
     "outputs": [
      {
       "output_type": "stream",
       "stream": "stdout",
       "text": [
        "C:\\Users\\annahambi\n"
       ]
      }
     ],
     "prompt_number": 11
    },
    {
     "cell_type": "code",
     "collapsed": false,
     "input": [
      "%%writefile my_html.tpl\n",
      "{%- extends 'full.tpl' -%} "
     ],
     "language": "python",
     "metadata": {},
     "outputs": [
      {
       "output_type": "stream",
       "stream": "stdout",
       "text": [
        "Overwriting my_html.tpl\n"
       ]
      }
     ],
     "prompt_number": 16
    },
    {
     "cell_type": "code",
     "collapsed": false,
     "input": [
      "!ipython nbconvert --to html --template my_html.tpl *.ipynb"
     ],
     "language": "python",
     "metadata": {},
     "outputs": [
      {
       "output_type": "stream",
       "stream": "stderr",
       "text": [
        "[NbConvertApp] Using existing profile dir: u'C:\\\\Users\\\\annahambi\\\\.ipython\\\\profile_default'\n",
        "[NbConvertApp] Converting notebook create_docs.ipynb to html\n",
        "[NbConvertApp] Support files will be in create_docs_files\\\n",
        "[NbConvertApp] Loaded template my_html.tpl\n",
        "C:\\Python27\\lib\\site-packages\\IPython\\nbconvert\\filters\\markdown.py:78: UserWarning: Node.js 0.9.12 or later wasn't found.\n",
        "Nbconvert will try to use Pandoc instead.\n",
        "  \"Nbconvert will try to use Pandoc instead.\")\n",
        "[NbConvertApp] Writing 211750 bytes to create_docs.html\n",
        "[NbConvertApp] Converting notebook H1_H3.ipynb to html\n",
        "[NbConvertApp] Support files will be in H1_H3_files\\\n",
        "[NbConvertApp] Writing 7129603 bytes to H1_H3.html\n",
        "[NbConvertApp] Converting notebook setup dist.ipynb to html\n",
        "[NbConvertApp] Support files will be in setup dist_files\\\n",
        "[NbConvertApp] Writing 203312 bytes to setup dist.html\n",
        "[NbConvertApp] Converting notebook ShapelyChipDesigns.ipynb to html\n",
        "[NbConvertApp] Support files will be in ShapelyChipDesigns_files\\\n",
        "[NbConvertApp] Writing 857034 bytes to ShapelyChipDesigns.html\n"
       ]
      }
     ],
     "prompt_number": 18
    },
    {
     "cell_type": "code",
     "collapsed": false,
     "input": [
      "import pkg_resources\n",
      "\n",
      "my_data_file = pkg_resources.resource_filename(__name__, 'convert.rb')\n",
      "print my_data_file"
     ],
     "language": "python",
     "metadata": {},
     "outputs": [
      {
       "output_type": "stream",
       "stream": "stdout",
       "text": [
        "convert.rb\n"
       ]
      }
     ],
     "prompt_number": 4
    },
    {
     "cell_type": "code",
     "collapsed": false,
     "input": [
      "pkg_resources.resource_filename('ShapelyChipDesigns', 'convert.rb')"
     ],
     "language": "python",
     "metadata": {},
     "outputs": [
      {
       "metadata": {},
       "output_type": "pyout",
       "prompt_number": 13,
       "text": [
        "'ShapelyChipDesigns\\\\convert.rb'"
       ]
      }
     ],
     "prompt_number": 13
    },
    {
     "cell_type": "code",
     "collapsed": false,
     "input": [
      "f = pkg_resources.resource_stream('ShapelyChipDesigns', 'convert.rb')"
     ],
     "language": "python",
     "metadata": {},
     "outputs": [],
     "prompt_number": 8
    },
    {
     "cell_type": "code",
     "collapsed": false,
     "input": [
      "f"
     ],
     "language": "python",
     "metadata": {},
     "outputs": [
      {
       "metadata": {},
       "output_type": "pyout",
       "prompt_number": 12,
       "text": [
        "<open file 'ShapelyChipDesigns\\\\convert.rb', mode 'rb' at 0x05B76180>"
       ]
      }
     ],
     "prompt_number": 12
    },
    {
     "cell_type": "code",
     "collapsed": false,
     "input": [
      "f.read()"
     ],
     "language": "python",
     "metadata": {},
     "outputs": [
      {
       "metadata": {},
       "output_type": "pyout",
       "prompt_number": 10,
       "text": [
        "'layout = RBA::Layout.new\\r\\nlayout.read($input)\\r\\nlayout.write($output)'"
       ]
      }
     ],
     "prompt_number": 10
    },
    {
     "cell_type": "code",
     "collapsed": false,
     "input": [
      "def convert(input_filename, output_filename):\n",
      "    \"\"\"This function can also be used to repair the savedxf_polylist-output, by choosing\n",
      "    the unrepaired file as input and another ``*.dxf`` file as output. The output will no longer have the hatch property.\n",
      "    Relies on the command line access to klayout.\n",
      "    (test by typing klayout into the command line, \n",
      "    if the command is not found, klayout needs to be added to the PATH variable.)\"\"\"\n",
      "    c_file = pkg_resources.resource_stream('ShapelyChipDesigns', 'convert.rb')\n",
      "    os.system('klayout -rd input='+input_filename+' -rd output='+output_filename+' -r '+c_file)"
     ],
     "language": "python",
     "metadata": {},
     "outputs": [],
     "prompt_number": 11
    },
    {
     "cell_type": "code",
     "collapsed": false,
     "input": [],
     "language": "python",
     "metadata": {},
     "outputs": []
    }
   ],
   "metadata": {}
  }
 ]
}