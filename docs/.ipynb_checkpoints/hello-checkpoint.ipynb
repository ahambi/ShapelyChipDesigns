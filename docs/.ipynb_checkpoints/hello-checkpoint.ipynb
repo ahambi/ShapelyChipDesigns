{
 "metadata": {
  "name": "",
  "signature": "sha256:c6136446589f5eed5e1343f322e6a3a38ad4bdf3c0075a188a40514b3c477741"
 },
 "nbformat": 3,
 "nbformat_minor": 0,
 "worksheets": [
  {
   "cells": [
    {
     "cell_type": "heading",
     "level": 1,
     "metadata": {},
     "source": [
      "I have a title!"
     ]
    },
    {
     "cell_type": "code",
     "collapsed": false,
     "input": [
      "%pylab inline"
     ],
     "language": "python",
     "metadata": {},
     "outputs": [
      {
       "output_type": "stream",
       "stream": "stdout",
       "text": [
        "Populating the interactive namespace from numpy and matplotlib\n"
       ]
      },
      {
       "output_type": "stream",
       "stream": "stderr",
       "text": [
        "WARNING: pylab import has clobbered these variables: ['f']\n",
        "`%matplotlib` prevents importing * from pylab and numpy\n"
       ]
      }
     ],
     "prompt_number": 51
    },
    {
     "cell_type": "code",
     "collapsed": false,
     "input": [
      "x = linspace(0, 10, 100)\n",
      "plot(x, sin(x))"
     ],
     "language": "python",
     "metadata": {},
     "outputs": [
      {
       "metadata": {},
       "output_type": "pyout",
       "prompt_number": 52,
       "text": [
        "[<matplotlib.lines.Line2D at 0x81c32d0>]"
       ]
      },
      {
       "metadata": {},
       "output_type": "display_data",
       "png": "[encoded data removed]",
       "text": [
        "<matplotlib.figure.Figure at 0x8182630>"
       ]
      }
     ],
     "prompt_number": 52
    },
    {
     "cell_type": "code",
     "collapsed": false,
     "input": [
      "print 'i am a notebook part'"
     ],
     "language": "python",
     "metadata": {},
     "outputs": [
      {
       "output_type": "stream",
       "stream": "stdout",
       "text": [
        "i am a notebook part\n"
       ]
      }
     ],
     "prompt_number": 53
    },
    {
     "cell_type": "code",
     "collapsed": false,
     "input": [
      "!ipython nbconvert hello.ipynb --to rst"
     ],
     "language": "python",
     "metadata": {},
     "outputs": [
      {
       "output_type": "stream",
       "stream": "stderr",
       "text": [
        "[NbConvertApp] Using existing profile dir: u'C:\\\\Users\\\\annahambi\\\\.ipython\\\\profile_default'\n",
        "[NbConvertApp] Converting notebook hello.ipynb to rst\n",
        "[NbConvertApp] Support files will be in hello_files\\\n",
        "[NbConvertApp] Loaded template rst.tpl\n",
        "[NbConvertApp] Writing 1242 bytes to hello.rst\n"
       ]
      }
     ],
     "prompt_number": 58
    },
    {
     "cell_type": "code",
     "collapsed": false,
     "input": [
      "f = open('hello.rst', 'r')\n",
      "content = f.read()\n",
      "f.close()\n",
      "content = content.replace('%5C','/')\n",
      "\n",
      "f = open('hello.rst', 'w')\n",
      "f.write(content)\n",
      "f.close()"
     ],
     "language": "python",
     "metadata": {},
     "outputs": [
      {
       "output_type": "stream",
       "stream": "stdout",
       "text": [
        "\n",
        "I have a title!\n",
        "===============\n",
        "\n",
        ".. code:: python\n",
        "\n",
        "    %pylab inline\n",
        "\n",
        ".. parsed-literal::\n",
        "\n",
        "    Populating the interactive namespace from numpy and matplotlib\n",
        "    \n",
        "\n",
        ".. parsed-literal::\n",
        "\n",
        "    WARNING: pylab import has clobbered these variables: ['f']\n",
        "    `%matplotlib` prevents importing * from pylab and numpy\n",
        "    \n",
        "\n",
        ".. code:: python\n",
        "\n",
        "    x = linspace(0, 10, 100)\n",
        "    plot(x, sin(x))\n",
        "\n",
        "\n",
        "\n",
        ".. parsed-literal::\n",
        "\n",
        "    [<matplotlib.lines.Line2D at 0x81c32d0>]\n",
        "\n",
        "\n",
        "\n",
        "\n",
        ".. image:: hello_files/hello_2_1.png\n",
        "\n",
        "\n",
        ".. code:: python\n",
        "\n",
        "    print 'i am a notebook part'\n",
        "\n",
        ".. parsed-literal::\n",
        "\n",
        "    i am a notebook part\n",
        "    \n",
        "\n",
        ".. code:: python\n",
        "\n",
        "    !ipython nbconvert hello.ipynb --to rst\n",
        "\n",
        ".. parsed-literal::\n",
        "\n",
        "    [NbConvertApp] Using existing profile dir: u'C:\\\\Users\\\\annahambi\\\\.ipython\\\\profile_default'\n",
        "    [NbConvertApp] Converting notebook hello.ipynb to rst\n",
        "    [NbConvertApp] Support files will be in hello_files\\\n",
        "    [NbConvertApp] Loaded template rst.tpl\n",
        "    [NbConvertApp] Writing 22769 bytes to hello.rst\n",
        "    \n",
        "\n",
        ".. code:: python\n",
        "\n",
        "    f = open('hello.rst', 'r')\n",
        "    content = f.read()\n",
        "    f.close()\n",
        "    content = content.replace('/','/')\n",
        "    print content\n",
        "    f = open('hello.rst', 'w')\n",
        "    f.write(content)\n",
        "    f.close()\n",
        "\n",
        ".. parsed-literal::\n",
        "\n",
        "    \n",
        "    \n",
        "\n",
        "\n"
       ]
      }
     ],
     "prompt_number": 59
    },
    {
     "cell_type": "code",
     "collapsed": false,
     "input": [],
     "language": "python",
     "metadata": {},
     "outputs": []
    }
   ],
   "metadata": {}
  }
 ]
}